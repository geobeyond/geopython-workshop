{
  "nbformat": 4,
  "nbformat_minor": 0,
  "metadata": {
    "anaconda-cloud": {},
    "kernelspec": {
      "display_name": "Python 3",
      "language": "python",
      "name": "python3"
    },
    "language_info": {
      "codemirror_mode": {
        "name": "ipython",
        "version": 3
      },
      "file_extension": ".py",
      "mimetype": "text/x-python",
      "name": "python",
      "nbconvert_exporter": "python",
      "pygments_lexer": "ipython3",
      "version": "3.5.1"
    },
    "colab": {
      "name": "05.01-What-Is-Machine-Learning.ipynb",
      "provenance": []
    }
  },
  "cells": [
    {
      "cell_type": "markdown",
      "metadata": {
        "id": "ntlfvjoNXLTr"
      },
      "source": [
        "# What Is Machine Learning?"
      ]
    },
    {
      "cell_type": "markdown",
      "metadata": {
        "deletable": true,
        "editable": true,
        "id": "hPlXlUVmXLTs"
      },
      "source": [
        "Before we take a look at the details of various machine learning methods, let's start by looking at what machine learning is, and what it isn't.\n",
        "Machine learning is often categorized as a subfield of artificial intelligence, but I find that categorization can often be misleading at first brush.\n",
        "The study of machine learning certainly arose from research in this context, but in the data science application of machine learning methods, it's more helpful to think of machine learning as a means of *building models of data*.\n",
        "\n",
        "Fundamentally, machine learning involves building mathematical models to help understand data.\n",
        "\"Learning\" enters the fray when we give these models *tunable parameters* that can be adapted to observed data; in this way the program can be considered to be \"learning\" from the data.\n",
        "Once these models have been fit to previously seen data, they can be used to predict and understand aspects of newly observed data.\n",
        "I'll leave to the reader the more philosophical digression regarding the extent to which this type of mathematical, model-based \"learning\" is similar to the \"learning\" exhibited by the human brain.\n",
        "\n",
        "Understanding the problem setting in machine learning is essential to using these tools effectively, and so we will start with some broad categorizations of the types of approaches we'll discuss here."
      ]
    },
    {
      "cell_type": "markdown",
      "metadata": {
        "deletable": true,
        "editable": true,
        "id": "MXLo39K9XLTt"
      },
      "source": [
        "## Categories of Machine Learning\n",
        "\n",
        "At the most fundamental level, machine learning can be categorized into two main types: supervised learning and unsupervised learning.\n",
        "\n",
        "*Supervised learning* involves somehow modeling the relationship between measured features of data and some label associated with the data; once this model is determined, it can be used to apply labels to new, unknown data.\n",
        "This is further subdivided into *classification* tasks and *regression* tasks: in classification, the labels are discrete categories, while in regression, the labels are continuous quantities.\n",
        "We will see examples of both types of supervised learning in the following section.\n",
        "\n",
        "*Unsupervised learning* involves modeling the features of a dataset without reference to any label, and is often described as \"letting the dataset speak for itself.\"\n",
        "These models include tasks such as *clustering* and *dimensionality reduction.*\n",
        "Clustering algorithms identify distinct groups of data, while dimensionality reduction algorithms search for more succinct representations of the data.\n",
        "We will see examples of both types of unsupervised learning in the following section.\n",
        "\n",
        "In addition, there are so-called *semi-supervised learning* methods, which falls somewhere between supervised learning and unsupervised learning.\n",
        "Semi-supervised learning methods are often useful when only incomplete labels are available."
      ]
    },
    {
      "cell_type": "markdown",
      "metadata": {
        "deletable": true,
        "editable": true,
        "id": "Z7_0U-TVXLTu"
      },
      "source": [
        "### Qualitative Examples of Machine Learning Applications"
      ]
    },
    {
      "cell_type": "markdown",
      "metadata": {
        "deletable": true,
        "editable": true,
        "id": "t0IoKtd_XLT0"
      },
      "source": [
        "This is the basic idea of a classification task in machine learning, where \"classification\" indicates that the data has discrete class labels.\n",
        "At first glance this may look fairly trivial: it would be relatively easy to simply look at this data and draw such a discriminatory line to accomplish this classification.\n",
        "A benefit of the machine learning approach, however, is that it can generalize to much larger datasets in many more dimensions.\n",
        "\n",
        "For example, this is similar to the task of automated spam detection for email; in this case, we might use the following features and labels:\n",
        "\n",
        "- *feature 1*, *feature 2*, etc. $\\to$ normalized counts of important words or phrases (\"Viagra\", \"Nigerian prince\", etc.)\n",
        "- *label* $\\to$ \"spam\" or \"not spam\"\n",
        "\n",
        "For the training set, these labels might be determined by individual inspection of a small representative sample of emails; for the remaining emails, the label would be determined using the model.\n",
        "For a suitably trained classification algorithm with enough well-constructed features (typically thousands or millions of words or phrases), this type of approach can be very effective."
      ]
    },
    {
      "cell_type": "markdown",
      "metadata": {
        "deletable": true,
        "editable": true,
        "id": "dsAjhKRDXLT1"
      },
      "source": [
        "### Regression: Predicting continuous labels\n",
        "\n",
        "In contrast with the discrete labels of a classification algorithm, *regression* task have continuous quantities defining labels."
      ]
    },
    {
      "cell_type": "markdown",
      "metadata": {
        "deletable": true,
        "editable": true,
        "id": "MiRf9ChOXLT7"
      },
      "source": [
        "### Clustering: Inferring labels on unlabeled data\n",
        "\n",
        "The classification and regression illustrations we just looked at are examples of supervised learning algorithms, in which we are trying to build a model that will predict labels for new data.\n",
        "Unsupervised learning involves models that describe data without reference to any known labels.\n",
        "\n",
        "One common case of unsupervised learning is \"clustering,\" in which data is automatically assigned to some number of discrete groups.\n",
        "For example, we might have some two-dimensional data like that shown in the following figure:"
      ]
    },
    {
      "cell_type": "markdown",
      "metadata": {
        "deletable": true,
        "editable": true,
        "id": "YjpVxzuLXLT8"
      },
      "source": [
        "*k*-means fits a model consisting of *k* cluster centers; the optimal centers are assumed to be those that minimize the distance of each point from its assigned center.\n",
        "Again, this might seem like a trivial exercise in two dimensions, but as our data becomes larger and more complex, such clustering algorithms can be employed to extract useful information from the dataset.\n",
        "\n",
        "Other important clustering algorithms include Gaussian mixture models and spectral clustering (For more details: [Scikit-Learn's clustering documentation](http://scikit-learn.org/stable/modules/clustering.html))."
      ]
    },
    {
      "cell_type": "markdown",
      "metadata": {
        "deletable": true,
        "editable": true,
        "id": "fWSHR2HbXLT9"
      },
      "source": [
        "### Dimensionality reduction: Inferring structure of unlabeled data\n",
        "\n",
        "Dimensionality reduction is another example of an unsupervised algorithm, in which labels or other information are inferred from the structure of the dataset itself.\n",
        "Dimensionality reduction is a bit more abstract than the examples we looked at before, but generally it seeks to pull out some low-dimensional representation of data that in some way preserves relevant qualities of the full dataset."
      ]
    },
    {
      "source": [
        "[<- Emerging Technology Trends](11-emerging-technology-trends.ipynb) | [Scikit Learn ->](13-scikit-learn.ipynb)"
      ],
      "cell_type": "markdown",
      "metadata": {}
    }
  ]
}