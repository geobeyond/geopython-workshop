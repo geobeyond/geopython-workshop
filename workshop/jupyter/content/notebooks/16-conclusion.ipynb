{
 "cells": [
  {
   "cell_type": "markdown",
   "metadata": {},
   "source": [
    "# Conclusion\n",
    "We hope this workshop provided an overview around common GIS workflows spanning\n",
    "the information management life cycle.\n",
    "\n",
    "## Resources and further reading\n",
    "This workshop is in good company.  There are numerous valuable and high quality tutorials and workshops\n",
    "on Python and geospatial out there.  The below a non-exhaustive list of resources for further research and learning.\n",
    "\n",
    "### Online books\n",
    "* Gentle introduction to GIS: https://docs.qgis.org/2.8/en/docs/gentle_gis_introduction/\n",
    "* Python GDAL/OGR Cookbook: https://pcjericks.github.io/py-gdalogr-cookbook/\n",
    "* Shapely manual: https://shapely.readthedocs.io/en/latest/\n",
    "* Fiona manual: https://fiona.readthedocs.io/en/latest/\n",
    "* Rasterio manual: https://rasterio.readthedocs.io/en/latest/\n",
    "* Numpy image processing: http://www.scipy-lectures.org/advanced/image_processing/\n",
    "* Python Geospatial Development: http://www.packtpub.com/python-geospatial-development/book\n",
    "\n",
    "### Forums and documentation\n",
    "[GIS Stack Exchange](https://gis.stackexchange.com) is the modern `man` page for all things geospatial.  Python specific questions can be found via the [Python tag](https://gis.stackexchange.com/questions/tagged/python).\n",
    "\n",
    "## Contributing\n",
    "Suggestions, improvements and fixes are always welcome.  Visit us on [GitHub](https://github.com/geopython/geopython-workshop) to contribute (new features/sections, bug fixes, pull requests, issues, etc.).\n",
    "\n",
    "---\n",
    "[<- Emerging technology and trends](11-emerging-technology-trends.ipynb)"
   ]
  }
 ],
 "metadata": {
  "kernelspec": {
   "display_name": "Python 3",
   "language": "python",
   "name": "python3"
  },
  "language_info": {
   "codemirror_mode": {
    "name": "ipython",
    "version": 3
   },
   "file_extension": ".py",
   "mimetype": "text/x-python",
   "name": "python",
   "nbconvert_exporter": "python",
   "pygments_lexer": "ipython3",
   "version": "3.7.3"
  }
 },
 "nbformat": 4,
 "nbformat_minor": 2
}
