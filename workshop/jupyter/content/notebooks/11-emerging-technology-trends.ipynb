{
 "cells": [
  {
   "cell_type": "markdown",
   "metadata": {},
   "source": [
    "# Emerging technology and trends"
   ]
  },
  {
   "cell_type": "markdown",
   "metadata": {},
   "source": [
    "## OGC API\n",
    "The OGC is undergoing (2019) an evolution of their API standards.  Lowering the barrier being the core driver, key principles include (but are not limited to):\n",
    "\n",
    "- [W3C Spatial Data on the Web Best Practices](https://www.w3.org/TR/sdw-bp)\n",
    "- make APIs more 'of the web'/webby\n",
    "- use of JSON and HTML\n",
    "- [OpenAPI](https://github.com/OAI/OpenAPI-Specification)\n",
    "- **Resource** oriented\n",
    "- REST patterns:\n",
    "  - `GET /foo/bar, not GET /foo request=bar`\n",
    "- ease of implementation for a wide audience of web developers\n",
    "\n",
    "OGC API efforts focus on key resource types:\n",
    "\n",
    "|OGC Classic | OGC API |\n",
    "|------------|---------|\n",
    "|OGC:WFS     | OGC API - Features|\n",
    "|OGC:WCS     | OGC API - Coverages|\n",
    "|OGC:CSW     | OGC API - Records|\n",
    "|OGC:WPS     | OGC API - Processes|\n",
    "|OGC:WMS/OGC:WMTS|OGC API - Maps and Tiles|"
   ]
  },
  {
   "cell_type": "markdown",
   "metadata": {},
   "source": [
    "While development of these standards is ongoing, OGC API - Features is the most mature at this time (2019).\n",
    "\n",
    "Let's interact with an OGC API - Features server:"
   ]
  },
  {
   "cell_type": "markdown",
   "metadata": {},
   "source": [
    "# Using Python requests"
   ]
  },
  {
   "cell_type": "code",
   "execution_count": null,
   "metadata": {},
   "outputs": [
    {
     "output_type": "error",
     "ename": "Error",
     "evalue": "IPyKernel not installed into interpreter Python 3.7.8 64-bit:C:\\Program Files (x86)\\Microsoft Visual Studio\\Shared\\Python37_64\\python.exe",
     "traceback": [
      "Error: IPyKernel not installed into interpreter Python 3.7.8 64-bit:C:\\Program Files (x86)\\Microsoft Visual Studio\\Shared\\Python37_64\\python.exe",
      "at w.handleKernelDependencyResponse (c:\\Users\\marco\\.vscode\\extensions\\ms-toolsai.jupyter-2021.8.1054968649\\out\\client\\extension.js:90:246461)",
      "at w.installMissingDependencies (c:\\Users\\marco\\.vscode\\extensions\\ms-toolsai.jupyter-2021.8.1054968649\\out\\client\\extension.js:90:245644)",
      "at processTicksAndRejections (internal/process/task_queues.js:93:5)"
     ]
    }
   ],
   "source": [
    "import json\n",
    "import requests\n",
    "\n",
    "url = 'https://demo.pygeoapi.io/master'\n",
    "# get the root service page\n",
    "print(json.dumps(requests.get(url).json(), indent=4))"
   ]
  },
  {
   "cell_type": "code",
   "execution_count": null,
   "metadata": {},
   "outputs": [],
   "source": [
    "# see all collections\n",
    "print(json.dumps(requests.get(url+'/collections').json(), indent=4))"
   ]
  },
  {
   "cell_type": "code",
   "execution_count": null,
   "metadata": {},
   "outputs": [],
   "source": [
    "# grab features from a specific collections\n",
    "print(json.dumps(requests.get(url+'/collections/obs/items').json(), indent=4))"
   ]
  },
  {
   "cell_type": "markdown",
   "metadata": {},
   "source": [
    "# Using OWSLib\n",
    "Let's try OWSLib's OGC API - Features support"
   ]
  },
  {
   "cell_type": "code",
   "execution_count": null,
   "metadata": {},
   "outputs": [],
   "source": [
    "from owslib.wfs import WebFeatureService\n",
    "\n",
    "w = WebFeatureService(url, version='3.0')\n",
    "w.version"
   ]
  },
  {
   "cell_type": "code",
   "execution_count": null,
   "metadata": {},
   "outputs": [],
   "source": [
    "w.url"
   ]
  },
  {
   "cell_type": "code",
   "execution_count": null,
   "metadata": {},
   "outputs": [],
   "source": [
    "w.collections()"
   ]
  },
  {
   "cell_type": "code",
   "execution_count": null,
   "metadata": {},
   "outputs": [],
   "source": [
    "features = w.collection_items('obs')"
   ]
  },
  {
   "cell_type": "code",
   "execution_count": null,
   "metadata": {},
   "outputs": [],
   "source": [
    "features['numberMatched']"
   ]
  },
  {
   "cell_type": "code",
   "execution_count": null,
   "metadata": {},
   "outputs": [],
   "source": [
    "features['numberReturned']"
   ]
  },
  {
   "cell_type": "code",
   "execution_count": null,
   "metadata": {},
   "outputs": [],
   "source": [
    "len(features['features'])"
   ]
  },
  {
   "cell_type": "code",
   "execution_count": null,
   "metadata": {},
   "outputs": [],
   "source": [
    "features"
   ]
  },
  {
   "cell_type": "markdown",
   "metadata": {},
   "source": [
    "# Using a web browser\n",
    "Check out the OGC API - Features server in your [browser](https://demo.pygeoapi.io/master).  Also take note of the [Swagger API page](https://demo.pygeoapi.io/master/api?f=html) which allows developers easy access and perusal of various API functionality, including testing the API as part of the interface.  Wow!"
   ]
  },
  {
   "cell_type": "markdown",
   "metadata": {},
   "source": [
    "[<- Remote data](10-remote-data.ipynb) | [Machine Learning ->](12-machine-learning.ipynb)"
   ]
  }
 ],
 "metadata": {
  "kernelspec": {
   "name": "python3",
   "display_name": "Python 3.7.8 64-bit"
  },
  "language_info": {
   "codemirror_mode": {
    "name": "ipython",
    "version": 3
   },
   "file_extension": ".py",
   "mimetype": "text/x-python",
   "name": "python",
   "nbconvert_exporter": "python",
   "pygments_lexer": "ipython3",
   "version": "3.7.8"
  },
  "interpreter": {
   "hash": "57baa5815c940fdaff4d14510622de9616cae602444507ba5d0b6727c008cbd6"
  }
 },
 "nbformat": 4,
 "nbformat_minor": 2
}